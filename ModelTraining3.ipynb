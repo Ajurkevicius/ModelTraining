{
 "cells": [
  {
   "cell_type": "code",
   "execution_count": 4,
   "id": "260b3afd",
   "metadata": {},
   "outputs": [],
   "source": [
    "import cv2\n",
    "import os\n",
    "import random\n",
    "import shutil\n",
    "import numpy as np\n",
    "from matplotlib import pyplot as plt"
   ]
  },
  {
   "cell_type": "code",
   "execution_count": 5,
   "id": "68bca8db",
   "metadata": {},
   "outputs": [],
   "source": [
    "from tensorflow.keras.models import Model\n",
    "from tensorflow.keras.layers import Layer, Conv2D, Dense, MaxPooling2D, Input, Flatten\n",
    "from tensorflow.keras.layers import Dropout\n",
    "import tensorflow as tf"
   ]
  },
  {
   "cell_type": "code",
   "execution_count": 6,
   "id": "494ccabb",
   "metadata": {},
   "outputs": [],
   "source": [
    "# Avoid OOM errors by setting GPU Memory Consumption Growth\n",
    "gpus = tf.config.experimental.list_physical_devices('GPU')\n",
    "for gpu in gpus: \n",
    "    tf.config.experimental.set_memory_growth(gpu, True)"
   ]
  },
  {
   "cell_type": "markdown",
   "id": "3255624e",
   "metadata": {},
   "source": [
    "# Data pipeline"
   ]
  },
  {
   "cell_type": "code",
   "execution_count": null,
   "id": "ada54b14",
   "metadata": {},
   "outputs": [],
   "source": [
    "home = r\"\" # setup home\n",
    "datapool = os.path.join(home, 'data','')"
   ]
  },
  {
   "cell_type": "code",
   "execution_count": null,
   "id": "28e18dca",
   "metadata": {},
   "outputs": [],
   "source": [
    "for directory in os.listdir('lfw'):\n",
    "    for file in os.listdir(os.path.join('lfw', directory)):\n",
    "        EX_PATH = os.path.join('lfw', directory, file)\n",
    "        NEW_PATH = os.path.join(datapool, file)\n",
    "        os.replace(EX_PATH, NEW_PATH)"
   ]
  },
  {
   "cell_type": "code",
   "execution_count": 80,
   "id": "42d6edf4",
   "metadata": {},
   "outputs": [
    {
     "name": "stdout",
     "output_type": "stream",
     "text": [
      "Zurab_Tsereteli_0001.jpg\n",
      "1\n"
     ]
    }
   ],
   "source": [
    "lfw_folder = r\"\"  # Replace with the path to your LFW dataset folder\n",
    "negative_folder = r\"\"  # Replace with the path to your negative images folder\n",
    "\n",
    "person_folders = os.listdir(lfw_folder)\n",
    "current_person_images = os.listdir(current_person_folder_path)\n",
    "current_image_path = os.path.join(current_person_folder_path, current_person_images[0])\n",
    "print(current_person_images[0])\n",
    "i=i+1\n",
    "print(i)"
   ]
  },
  {
   "cell_type": "code",
   "execution_count": 82,
   "id": "e183c98d",
   "metadata": {},
   "outputs": [
    {
     "name": "stdout",
     "output_type": "stream",
     "text": [
      "0, 1, 2, 3, 4, "
     ]
    }
   ],
   "source": [
    "for i in range(5):\n",
    "    print(i, end=\", \") # prints: 0, 1, 2, 3, 4,\n",
    "    i=i+1\n",
    "    continue"
   ]
  },
  {
   "cell_type": "code",
   "execution_count": 85,
   "id": "a0a61693",
   "metadata": {},
   "outputs": [],
   "source": [
    "lfw_folder = r\"\" #setup LFW folder\n",
    "negative_folder = r\"\" #setup negative folder   \n",
    "\n",
    "\n",
    "\n",
    "person_folders = os.listdir(lfw_folder)\n",
    "num_persons = len(person_folders)\n",
    "\n",
    "skip_next = False    \n",
    "\n",
    "\n",
    "for i in range(len(person_folders)-1):\n",
    "    \n",
    "    if skip_next:\n",
    "        skip_next = False\n",
    "        continue\n",
    "    \n",
    "    \n",
    "    current_person_folder_path = os.path.join(lfw_folder, person_folders[i])\n",
    "    next_person_folder_path = os.path.join(lfw_folder, person_folders[i+1])\n",
    "   \n",
    "    if len(os.listdir(current_person_folder_path)) >= 2:\n",
    "       \n",
    "        current_person_images = os.listdir(current_person_folder_path)\n",
    "        current_image_path = os.path.join(current_person_folder_path, current_person_images[0])\n",
    "        shutil.move(current_image_path, negative_folder)\n",
    "\n",
    "       \n",
    "        current_image_path1 = os.path.join(current_person_folder_path, current_person_images[1])\n",
    "        shutil.move(current_image_path1, negative_folder)\n",
    "\n",
    "        \n",
    "        next_person_images = os.listdir(next_person_folder_path)\n",
    "        next_image_path = os.path.join(next_person_folder_path, next_person_images[0])\n",
    "        shutil.move(next_image_path, negative_folder)\n",
    "        skip_next = True"
   ]
  },
  {
   "cell_type": "code",
   "execution_count": null,
   "id": "7fc1b7bd",
   "metadata": {},
   "outputs": [],
   "source": [
    "home = r\"\" # setup home\n",
    "POS_PATH = os.path.join(home, 'data', 'positive','')\n",
    "NEG_PATH = os.path.join(home, 'data', 'negative','')\n",
    "ANC_PATH = os.path.join(home, 'data', 'anchor','')\n",
    "TSTNG_PATH = os.path.join(home, 'data', 'testng','')\n",
    "TSTPS_PATH = os.path.join(home, 'data', 'testps','')\n",
    "TSTAN_PATH = os.path.join(home, 'data', 'testan','')"
   ]
  },
  {
   "cell_type": "code",
   "execution_count": null,
   "id": "b4220eed",
   "metadata": {},
   "outputs": [],
   "source": [
    "testingData=tf.data.Dataset.list_files(home+'*.jpg').take(201)"
   ]
  },
  {
   "cell_type": "markdown",
   "id": "0c88b6aa",
   "metadata": {},
   "source": [
    "# Preprocessing"
   ]
  },
  {
   "cell_type": "code",
   "execution_count": 7,
   "id": "94079543",
   "metadata": {},
   "outputs": [],
   "source": [
    "def preprocess(file_path):\n",
    "    \n",
    "    byte_img = tf.io.read_file(file_path)\n",
    "     \n",
    "    img = tf.io.decode_jpeg(byte_img)\n",
    "        \n",
    "    img = tf.image.resize(img, (224,224))\n",
    "     \n",
    "    img = img / 255.0\n",
    "\n",
    "    return img"
   ]
  },
  {
   "cell_type": "code",
   "execution_count": null,
   "id": "069be280",
   "metadata": {},
   "outputs": [],
   "source": []
  },
  {
   "cell_type": "markdown",
   "id": "b8a5bd80",
   "metadata": {},
   "source": [
    "# Training"
   ]
  },
  {
   "cell_type": "code",
   "execution_count": 8,
   "id": "6c13c5ee",
   "metadata": {},
   "outputs": [],
   "source": [
    "image_folder = r\"\" # training data folder\n",
    "\n",
    "\n",
    "image_files = [os.path.join(image_folder, file) for file in os.listdir(image_folder) if file.endswith('.jpg')]\n",
    "\n",
    "\n",
    "positive_pairs = []\n",
    "negative_pairs = []\n",
    "positive_pairs1 = []\n",
    "negative_pairs1 = []\n",
    "\n",
    "for i in range(0, len(image_files) - 1, 3):\n",
    "    positive_pairs.append(image_files[i])\n",
    "    positive_pairs1.append(image_files[i + 1])\n",
    "    negative_pairs.append(image_files[i + 1])\n",
    "    negative_pairs1.append(image_files[i + 2])\n",
    "\n",
    "positive_labels = tf.ones(len(positive_pairs), dtype=tf.int32)\n",
    "negative_labels = tf.zeros(len(negative_pairs), dtype=tf.int32)\n",
    "\n",
    "positive_dataset = tf.data.Dataset.from_tensor_slices(positive_pairs)\n",
    "negative_dataset = tf.data.Dataset.from_tensor_slices(negative_pairs)\n",
    "positive_dataset1 = tf.data.Dataset.from_tensor_slices(positive_pairs1)\n",
    "negative_dataset1 = tf.data.Dataset.from_tensor_slices(negative_pairs1)\n",
    "\n",
    "positives = tf.data.Dataset.zip((positive_dataset, positive_dataset1, tf.data.Dataset.from_tensor_slices(positive_labels)))\n",
    "\n",
    "negatives = tf.data.Dataset.zip((negative_dataset, negative_dataset1, tf.data.Dataset.from_tensor_slices(negative_labels)))\n",
    "\n",
    "data = positives.concatenate(negatives)"
   ]
  },
  {
   "cell_type": "markdown",
   "id": "954b5744",
   "metadata": {},
   "source": [
    "# Validation"
   ]
  },
  {
   "cell_type": "code",
   "execution_count": 9,
   "id": "2b9af6ce",
   "metadata": {},
   "outputs": [],
   "source": [
    "image_folder = r\"\" # training data folder\n",
    "\n",
    "image_files = [os.path.join(image_folder, file) for file in os.listdir(image_folder) if file.endswith('.jpg')]\n",
    "\n",
    "positive_pairs = []\n",
    "negative_pairs = []\n",
    "positive_pairs1 = []\n",
    "negative_pairs1 = []\n",
    "\n",
    "for i in range(0, len(image_files) - 1, 3):\n",
    "    positive_pairs.append(image_files[i])\n",
    "    positive_pairs1.append(image_files[i + 1])\n",
    "    negative_pairs.append(image_files[i + 1])\n",
    "    negative_pairs1.append(image_files[i + 2])\n",
    "\n",
    "\n",
    "positive_labels = tf.ones(len(positive_pairs), dtype=tf.int32)\n",
    "negative_labels = tf.zeros(len(negative_pairs), dtype=tf.int32)\n",
    "\n",
    "positive_dataset = tf.data.Dataset.from_tensor_slices(positive_pairs)\n",
    "negative_dataset = tf.data.Dataset.from_tensor_slices(negative_pairs)\n",
    "positive_dataset1 = tf.data.Dataset.from_tensor_slices(positive_pairs1)\n",
    "negative_dataset1 = tf.data.Dataset.from_tensor_slices(negative_pairs1)\n",
    "\n",
    "positives = tf.data.Dataset.zip((positive_dataset, positive_dataset1, tf.data.Dataset.from_tensor_slices(positive_labels)))\n",
    "\n",
    "negatives = tf.data.Dataset.zip((negative_dataset, negative_dataset1, tf.data.Dataset.from_tensor_slices(negative_labels)))\n",
    "\n",
    "val_data = positives.concatenate(negatives)"
   ]
  },
  {
   "cell_type": "markdown",
   "id": "0a543917",
   "metadata": {},
   "source": [
    "# Testing"
   ]
  },
  {
   "cell_type": "code",
   "execution_count": 10,
   "id": "969ac3fa",
   "metadata": {},
   "outputs": [],
   "source": [
    "image_folder = r\"\" # training data folder\n",
    "\n",
    "image_files = [os.path.join(image_folder, file) for file in os.listdir(image_folder) if file.endswith('.jpg')]\n",
    "\n",
    "positive_pairs = []\n",
    "negative_pairs = []\n",
    "positive_pairs1 = []\n",
    "negative_pairs1 = []\n",
    "\n",
    "for i in range(0, len(image_files) - 1, 3):\n",
    "    positive_pairs.append(image_files[i])\n",
    "    positive_pairs1.append(image_files[i + 1])\n",
    "    negative_pairs.append(image_files[i + 1])\n",
    "    negative_pairs1.append(image_files[i + 2])\n",
    "\n",
    "positive_labels = tf.ones(len(positive_pairs), dtype=tf.int32)\n",
    "negative_labels = tf.zeros(len(negative_pairs), dtype=tf.int32)\n",
    "\n",
    "positive_dataset = tf.data.Dataset.from_tensor_slices(positive_pairs)\n",
    "negative_dataset = tf.data.Dataset.from_tensor_slices(negative_pairs)\n",
    "positive_dataset1 = tf.data.Dataset.from_tensor_slices(positive_pairs1)\n",
    "negative_dataset1 = tf.data.Dataset.from_tensor_slices(negative_pairs1)\n",
    "\n",
    "positives = tf.data.Dataset.zip((positive_dataset, positive_dataset1, tf.data.Dataset.from_tensor_slices(positive_labels)))\n",
    "\n",
    "negatives = tf.data.Dataset.zip((negative_dataset, negative_dataset1, tf.data.Dataset.from_tensor_slices(negative_labels)))\n",
    "\n",
    "tst_data = positives.concatenate(negatives)"
   ]
  },
  {
   "cell_type": "code",
   "execution_count": 11,
   "id": "2daa3c86",
   "metadata": {},
   "outputs": [
    {
     "ename": "ValueError",
     "evalue": "too many values to unpack (expected 2)",
     "output_type": "error",
     "traceback": [
      "\u001b[1;31m---------------------------------------------------------------------------\u001b[0m",
      "\u001b[1;31mValueError\u001b[0m                                Traceback (most recent call last)",
      "Cell \u001b[1;32mIn[11], line 3\u001b[0m\n\u001b[0;32m      1\u001b[0m index \u001b[38;5;241m=\u001b[39m \u001b[38;5;241m1\u001b[39m\n\u001b[0;32m      2\u001b[0m \u001b[38;5;28;01mfor\u001b[39;00m (positive_sample, negative_sample, label) \u001b[38;5;129;01min\u001b[39;00m data\u001b[38;5;241m.\u001b[39mas_numpy_iterator():\n\u001b[1;32m----> 3\u001b[0m     positive_image, positive_image1 \u001b[38;5;241m=\u001b[39m positive_sample\n\u001b[0;32m      4\u001b[0m     negative_image, negative_image1 \u001b[38;5;241m=\u001b[39m negative_sample\n\u001b[0;32m      7\u001b[0m     \u001b[38;5;28mprint\u001b[39m(\u001b[38;5;124mf\u001b[39m\u001b[38;5;124m\"\u001b[39m\u001b[38;5;124mPair \u001b[39m\u001b[38;5;132;01m{\u001b[39;00mindex\u001b[38;5;132;01m}\u001b[39;00m\u001b[38;5;124m\"\u001b[39m)\n",
      "\u001b[1;31mValueError\u001b[0m: too many values to unpack (expected 2)"
     ]
    }
   ],
   "source": [
    "# for alternative zipping\n",
    "index = 1\n",
    "for (positive_sample, negative_sample, label) in data.as_numpy_iterator():\n",
    "    positive_image, positive_image1 = positive_sample\n",
    "    negative_image, negative_image1 = negative_sample\n",
    "    \n",
    "    \n",
    "    print(f\"Pair {index}\")\n",
    "    print(\"Positive Image:\", positive_image.decode('utf-8'))\n",
    "    print(\"Positive Image1:\", positive_image1.decode('utf-8'))\n",
    "    print(\"Label:\", label)\n",
    "    print(\"---\")\n",
    "    index += 1"
   ]
  },
  {
   "cell_type": "code",
   "execution_count": null,
   "id": "9887fddb",
   "metadata": {},
   "outputs": [],
   "source": [
    "index = 1\n",
    "for sample in tst_data.as_numpy_iterator():\n",
    "    print(f\"Pair {index}\")\n",
    "    print(\"Positive Image:\", sample[0].decode('utf-8'))\n",
    "    print(\"Positive Image1:\", sample[1].decode('utf-8'))\n",
    "    print(\"Label:\", sample[2])\n",
    "    print(\"---\")\n",
    "    index += 1"
   ]
  },
  {
   "cell_type": "code",
   "execution_count": null,
   "id": "4030bca7",
   "metadata": {},
   "outputs": [],
   "source": [
    "for sample in data.as_numpy_iterator():\n",
    "    image_filename = sample[0].decode('utf-8')\n",
    "    label = sample[1]\n",
    "    print(\"Image Filename:\", image_filename)\n",
    "    print(\"Label:\", label)\n",
    "    print(\"---\")"
   ]
  },
  {
   "cell_type": "markdown",
   "id": "e296630f",
   "metadata": {},
   "source": [
    "# Twin preprocessing"
   ]
  },
  {
   "cell_type": "code",
   "execution_count": 12,
   "id": "c1a525c0",
   "metadata": {},
   "outputs": [],
   "source": [
    "def preprocess_twin(input_img, validation_img, label):\n",
    "    return(preprocess(input_img), preprocess(validation_img), label)"
   ]
  },
  {
   "cell_type": "markdown",
   "id": "daf9a72e",
   "metadata": {},
   "source": [
    "# Training partition"
   ]
  },
  {
   "cell_type": "code",
   "execution_count": 13,
   "id": "61759171",
   "metadata": {},
   "outputs": [],
   "source": [
    "# Build dataloader pipeline\n",
    "data = data.map(preprocess_twin)\n",
    "data = data.cache()\n",
    "data = data.shuffle(buffer_size=10000)"
   ]
  },
  {
   "cell_type": "code",
   "execution_count": 14,
   "id": "3434b12e",
   "metadata": {},
   "outputs": [
    {
     "name": "stdout",
     "output_type": "stream",
     "text": [
      "204\n",
      "26\n",
      "26\n"
     ]
    }
   ],
   "source": [
    "# Training partition\n",
    "train_data = data.take(round(len(data)*1.0))\n",
    "print(len(train_data))\n",
    "train_data = train_data.batch(8)\n",
    "print(len(train_data))\n",
    "train_data = train_data.prefetch(4)\n",
    "print(len(train_data))"
   ]
  },
  {
   "cell_type": "markdown",
   "id": "3268ea3c",
   "metadata": {},
   "source": [
    "# Validation data partition"
   ]
  },
  {
   "cell_type": "code",
   "execution_count": 15,
   "id": "94a90c87",
   "metadata": {},
   "outputs": [],
   "source": [
    "# Build dataloader pipeline\n",
    "val_data = val_data.map(preprocess_twin)\n",
    "val_data = val_data.cache()\n",
    "val_data = val_data.shuffle(buffer_size=10000)"
   ]
  },
  {
   "cell_type": "code",
   "execution_count": 16,
   "id": "43393785",
   "metadata": {},
   "outputs": [
    {
     "name": "stdout",
     "output_type": "stream",
     "text": [
      "80\n",
      "10\n",
      "10\n"
     ]
    }
   ],
   "source": [
    "# Training partition\n",
    "validation_data = val_data.take(round(len(data)*1.0))\n",
    "print(len(validation_data))\n",
    "validation_data = validation_data.batch(8)\n",
    "print(len(validation_data))\n",
    "validation_data = validation_data.prefetch(4)\n",
    "print(len(validation_data))"
   ]
  },
  {
   "cell_type": "markdown",
   "id": "ccb599e6",
   "metadata": {},
   "source": [
    "# Testing partition"
   ]
  },
  {
   "cell_type": "code",
   "execution_count": 17,
   "id": "c858e5de",
   "metadata": {},
   "outputs": [],
   "source": [
    "# Build dataloader pipeline\n",
    "tst_data = tst_data.map(preprocess_twin)\n",
    "tst_data = tst_data.cache()\n",
    "tst_data = tst_data.shuffle(buffer_size=10000)"
   ]
  },
  {
   "cell_type": "code",
   "execution_count": 18,
   "id": "c4cd3f01",
   "metadata": {},
   "outputs": [
    {
     "name": "stdout",
     "output_type": "stream",
     "text": [
      "80\n",
      "5\n"
     ]
    }
   ],
   "source": [
    "# Testing partition\n",
    "ttdata = tst_data.skip(round(len(data)*0.0))\n",
    "ttdata = ttdata.take(round(len(data)*1.0))\n",
    "print(len(ttdata))\n",
    "ttdata = ttdata.batch(16)\n",
    "ttdata = ttdata.prefetch(4)\n",
    "print(len(ttdata))"
   ]
  },
  {
   "cell_type": "markdown",
   "id": "a35e6885",
   "metadata": {},
   "source": [
    "# Embedding layer"
   ]
  },
  {
   "cell_type": "code",
   "execution_count": 19,
   "id": "0156f257",
   "metadata": {},
   "outputs": [],
   "source": [
    "def make_embedding():\n",
    "    #input\n",
    "    inp = Input(shape=(224,224,3), name=\"input_image\")\n",
    "    \n",
    "    #block0\n",
    "    c0 = Conv2D(32, (15,15),  activation='relu')(inp)\n",
    "    m0 = MaxPooling2D(64, (2,2), padding='same')(c0)\n",
    "    d0 = Dropout(0.2)(m0)  # Adding dropout layer\n",
    "             \n",
    "    #block1\n",
    "    c1 = Conv2D(64, (10,10), activation='relu')(d0)\n",
    "    m1 = MaxPooling2D(64, (2,2), padding='same')(c1)\n",
    "    \n",
    "    #block2\n",
    "    c2 = Conv2D(128, (7,7), activation='relu')(m1)\n",
    "    m2 = MaxPooling2D(64, (2,2), padding='same')(c2)\n",
    "    \n",
    "    #block3\n",
    "    c3 = Conv2D(128, (4,4), activation='relu')(m2)\n",
    "    m3 = MaxPooling2D(64, (2,2), padding='same')(c3)\n",
    "    \n",
    "    #block4\n",
    "    c4 = Conv2D(256, (4,4), activation='relu')(m3)\n",
    "    f1 = Flatten()(c4)\n",
    "    d1 = Dense(4096, activation= 'sigmoid')(f1)\n",
    "    \n",
    "    \n",
    "    \n",
    "    return Model(inputs = [inp], outputs = [d1], name ='embedding')"
   ]
  },
  {
   "cell_type": "code",
   "execution_count": 20,
   "id": "958a5339",
   "metadata": {},
   "outputs": [],
   "source": [
    "modelEmbedding = make_embedding()"
   ]
  },
  {
   "cell_type": "code",
   "execution_count": 21,
   "id": "30311bce",
   "metadata": {},
   "outputs": [
    {
     "name": "stdout",
     "output_type": "stream",
     "text": [
      "Model: \"embedding\"\n",
      "_________________________________________________________________\n",
      " Layer (type)                Output Shape              Param #   \n",
      "=================================================================\n",
      " input_image (InputLayer)    [(None, 224, 224, 3)]     0         \n",
      "                                                                 \n",
      " conv2d (Conv2D)             (None, 210, 210, 32)      21632     \n",
      "                                                                 \n",
      " max_pooling2d (MaxPooling2D  (None, 105, 105, 32)     0         \n",
      " )                                                               \n",
      "                                                                 \n",
      " dropout (Dropout)           (None, 105, 105, 32)      0         \n",
      "                                                                 \n",
      " conv2d_1 (Conv2D)           (None, 96, 96, 64)        204864    \n",
      "                                                                 \n",
      " max_pooling2d_1 (MaxPooling  (None, 48, 48, 64)       0         \n",
      " 2D)                                                             \n",
      "                                                                 \n",
      " conv2d_2 (Conv2D)           (None, 42, 42, 128)       401536    \n",
      "                                                                 \n",
      " max_pooling2d_2 (MaxPooling  (None, 21, 21, 128)      0         \n",
      " 2D)                                                             \n",
      "                                                                 \n",
      " conv2d_3 (Conv2D)           (None, 18, 18, 128)       262272    \n",
      "                                                                 \n",
      " max_pooling2d_3 (MaxPooling  (None, 9, 9, 128)        0         \n",
      " 2D)                                                             \n",
      "                                                                 \n",
      " conv2d_4 (Conv2D)           (None, 6, 6, 256)         524544    \n",
      "                                                                 \n",
      " flatten (Flatten)           (None, 9216)              0         \n",
      "                                                                 \n",
      " dense (Dense)               (None, 4096)              37752832  \n",
      "                                                                 \n",
      "=================================================================\n",
      "Total params: 39,167,680\n",
      "Trainable params: 39,167,680\n",
      "Non-trainable params: 0\n",
      "_________________________________________________________________\n"
     ]
    }
   ],
   "source": [
    "modelEmbedding.summary()"
   ]
  },
  {
   "cell_type": "markdown",
   "id": "22748893",
   "metadata": {},
   "source": [
    "# Custom Layer"
   ]
  },
  {
   "cell_type": "code",
   "execution_count": 21,
   "id": "6d366d33",
   "metadata": {},
   "outputs": [],
   "source": [
    "class L1DistCustom(Layer):\n",
    "    def __init__(self, **kwargs):\n",
    "        super().__init__()\n",
    "    # for diferent distance calculations look into theoretical part of my paper. Siamese network theory\n",
    "    def call(self, input_embedding, validation_embedding):\n",
    "        return tf.math.abs(input_embedding - validation_embedding) "
   ]
  },
  {
   "cell_type": "code",
   "execution_count": 22,
   "id": "9d894a93",
   "metadata": {},
   "outputs": [],
   "source": [
    "siamese_layer= L1DistCustom()"
   ]
  },
  {
   "cell_type": "markdown",
   "id": "c14e8f43",
   "metadata": {},
   "source": [
    "# Building model"
   ]
  },
  {
   "cell_type": "code",
   "execution_count": 23,
   "id": "14ae7804",
   "metadata": {},
   "outputs": [],
   "source": [
    "def siamese_model():\n",
    "    input_image = Input(name='inp_img', shape=(224,224,3))\n",
    "    validation_image= Input(name='valid_img', shape=(224,224,3))\n",
    "    \n",
    "    #join models\n",
    "    siamese_layer = L1DistCustom()\n",
    "    siamese_layer._name = 'distance'\n",
    "    distances = siamese_layer(modelEmbedding(input_image), modelEmbedding(validation_image))\n",
    "    \n",
    "    #clasifier\n",
    "    classifier = Dense(1, activation='sigmoid')(distances)\n",
    "    \n",
    "    return Model(inputs=[input_image, validation_image], outputs=classifier, name='SiameseModelV7')"
   ]
  },
  {
   "cell_type": "code",
   "execution_count": 24,
   "id": "37f3b023",
   "metadata": {},
   "outputs": [],
   "source": [
    "siameseModel = siamese_model()"
   ]
  },
  {
   "cell_type": "code",
   "execution_count": 25,
   "id": "db9ffcf9",
   "metadata": {},
   "outputs": [
    {
     "name": "stdout",
     "output_type": "stream",
     "text": [
      "Model: \"SiameseModelV7\"\n",
      "__________________________________________________________________________________________________\n",
      " Layer (type)                   Output Shape         Param #     Connected to                     \n",
      "==================================================================================================\n",
      " inp_img (InputLayer)           [(None, 224, 224, 3  0           []                               \n",
      "                                )]                                                                \n",
      "                                                                                                  \n",
      " valid_img (InputLayer)         [(None, 224, 224, 3  0           []                               \n",
      "                                )]                                                                \n",
      "                                                                                                  \n",
      " embedding (Functional)         (None, 4096)         39167680    ['inp_img[0][0]',                \n",
      "                                                                  'valid_img[0][0]']              \n",
      "                                                                                                  \n",
      " distance (L1DistCustom)        (None, 4096)         0           ['embedding[0][0]',              \n",
      "                                                                  'embedding[1][0]']              \n",
      "                                                                                                  \n",
      " dense_1 (Dense)                (None, 1)            4097        ['distance[0][0]']               \n",
      "                                                                                                  \n",
      "==================================================================================================\n",
      "Total params: 39,171,777\n",
      "Trainable params: 39,171,777\n",
      "Non-trainable params: 0\n",
      "__________________________________________________________________________________________________\n"
     ]
    }
   ],
   "source": [
    "siameseModel.summary()"
   ]
  },
  {
   "cell_type": "markdown",
   "id": "fdb75095",
   "metadata": {},
   "source": [
    "# Model parameters"
   ]
  },
  {
   "cell_type": "code",
   "execution_count": 26,
   "id": "ea9be26b",
   "metadata": {},
   "outputs": [],
   "source": [
    "binary_cross_loss = tf.losses.BinaryCrossentropy()"
   ]
  },
  {
   "cell_type": "code",
   "execution_count": 27,
   "id": "2a1512b1",
   "metadata": {},
   "outputs": [],
   "source": [
    "optimization = tf.keras.optimizers.Adam(1e-4)"
   ]
  },
  {
   "cell_type": "markdown",
   "id": "b260556b",
   "metadata": {},
   "source": [
    "# Training step function"
   ]
  },
  {
   "cell_type": "code",
   "execution_count": 28,
   "id": "14b897e4",
   "metadata": {},
   "outputs": [],
   "source": [
    "@tf.function\n",
    "def train_step(batch):\n",
    "    \n",
    "    with tf.GradientTape() as tape:\n",
    "        x=batch[:2]\n",
    "        y=batch[2]\n",
    "        \n",
    "        yhat = siameseModel(x, training=True)\n",
    "        loss = binary_cross_loss(y, yhat)\n",
    "    print(loss)\n",
    "    \n",
    "    grad = tape.gradient(loss, siameseModel.trainable_variables)\n",
    "    optimization.apply_gradients(zip(grad, siameseModel.trainable_variables))\n",
    "    return loss"
   ]
  },
  {
   "cell_type": "code",
   "execution_count": 29,
   "id": "aa992922",
   "metadata": {},
   "outputs": [],
   "source": [
    "# Use this to gain performance\n",
    "@tf.function\n",
    "def test_step(batch):\n",
    "    x=batch[:2]\n",
    "    y=batch[2]\n",
    "    yhat = siameseModel(x, training=False)\n",
    "    val_acc_metric.update_state(y, val_logits)\n",
    "    \n",
    "    return yhat, val_acc_metric"
   ]
  },
  {
   "cell_type": "markdown",
   "id": "5b0fd90b",
   "metadata": {},
   "source": [
    "# Custom training loop"
   ]
  },
  {
   "cell_type": "code",
   "execution_count": 30,
   "id": "72f64fdc",
   "metadata": {},
   "outputs": [],
   "source": [
    "from tensorflow.keras.metrics import Precision, Recall, Accuracy, BinaryAccuracy"
   ]
  },
  {
   "cell_type": "code",
   "execution_count": 31,
   "id": "28dad633",
   "metadata": {},
   "outputs": [],
   "source": [
    "binary_accuracy = tf.keras.metrics.BinaryAccuracy(threshold=0.5)"
   ]
  },
  {
   "cell_type": "code",
   "execution_count": 32,
   "id": "8043efba",
   "metadata": {},
   "outputs": [],
   "source": [
    "def train(data, v_data, EPOCHS):\n",
    "    train_loss_results = []\n",
    "    train_accuracy_results = []\n",
    "    train_precision_results = []\n",
    "    train_recall_results = []\n",
    "    validation_loss_results = []\n",
    "    validation_accuracy_results = []\n",
    "    validation_precision_results = []\n",
    "    validation_recall_results = []\n",
    "    \n",
    "    for epoch in range (1, EPOCHS+1):\n",
    "        print('\\n Epoch {}/{}'.format(epoch, EPOCHS))\n",
    "        progbar = tf.keras.utils.Progbar(len(data))\n",
    "        \n",
    "        r = Recall()\n",
    "        p = Precision()\n",
    "        epoch_accuracy  = tf.keras.metrics.BinaryAccuracy(threshold=0.5)\n",
    "        epoch_loss_avg = tf.keras.metrics.Mean()\n",
    "        \n",
    "        for idx, batch in enumerate(data):\n",
    "            #train_step(batch)\n",
    "            #progbar.update(idx+1)\n",
    "            loss = train_step(batch)\n",
    "            yhat = siameseModel.predict(batch[:2])\n",
    "            r.update_state(batch[2], yhat)\n",
    "            p.update_state(batch[2], yhat)\n",
    "            epoch_accuracy.update_state(batch[2], yhat)\n",
    "            epoch_loss_avg.update_state(loss)            \n",
    "            progbar.update(idx+1)\n",
    "           \n",
    "        print(\"training results\")\n",
    "        print(epoch_loss_avg.result().numpy(), epoch_accuracy.result().numpy(), r.result().numpy(), p.result().numpy())\n",
    "        train_loss_results.append(epoch_loss_avg.result())\n",
    "        train_accuracy_results.append(epoch_accuracy.result())\n",
    "        train_precision_results.append(p.result())\n",
    "        train_recall_results.append(r.result())\n",
    "        epoch_loss_avg.reset_states()\n",
    "        epoch_accuracy.reset_states()\n",
    "        p.reset_states()\n",
    "        r.reset_states()\n",
    "        \n",
    "        \n",
    "        # Update val metrics\n",
    "        val_r = Recall()\n",
    "        val_p = Precision()\n",
    "        val_epoch_accuracy  = tf.keras.metrics.BinaryAccuracy(threshold=0.5)\n",
    "        val_epoch_loss_avg = tf.keras.metrics.Mean()\n",
    "        \n",
    "        for idx, batch1 in enumerate(v_data):\n",
    "            val_y_hat = siameseModel(batch1[:2], training=False)\n",
    "            val_r.update_state(batch1[2], val_y_hat)\n",
    "            val_p.update_state(batch1[2], val_y_hat)\n",
    "            val_epoch_accuracy.update_state(batch1[2], val_y_hat)\n",
    "         \n",
    "        print(\"validation results\")\n",
    "        print(val_epoch_accuracy.result().numpy(), val_r.result().numpy(), val_p.result().numpy())\n",
    "        validation_accuracy_results.append(val_epoch_accuracy.result())\n",
    "        validation_precision_results.append(val_p.result())\n",
    "        validation_recall_results.append(val_r.result())\n",
    "        \n",
    "        val_epoch_accuracy.reset_states()\n",
    "        val_p.reset_states()\n",
    "        val_r.reset_states()\n",
    "        \n",
    "        \n",
    "        \n",
    "    return train_loss_results, train_accuracy_results, train_precision_results,train_recall_results, validation_accuracy_results,validation_precision_results,validation_recall_results "
   ]
  },
  {
   "cell_type": "code",
   "execution_count": 33,
   "id": "ab3e59f9",
   "metadata": {},
   "outputs": [],
   "source": [
    "outputloss = []\n",
    "outputaccuracy = []\n",
    "outputprecision = []\n",
    "outputrecall = []\n",
    "\n",
    "output_val_accuracy = []\n",
    "output_val_precision = []\n",
    "output_val_recall = []"
   ]
  },
  {
   "cell_type": "code",
   "execution_count": 34,
   "id": "dc4a5c0d",
   "metadata": {},
   "outputs": [],
   "source": [
    "EPOCHS = 15"
   ]
  },
  {
   "cell_type": "code",
   "execution_count": 35,
   "id": "4e218649",
   "metadata": {
    "scrolled": false
   },
   "outputs": [
    {
     "name": "stdout",
     "output_type": "stream",
     "text": [
      "\n",
      " Epoch 1/15\n",
      "Tensor(\"binary_crossentropy/weighted_loss/value:0\", shape=(), dtype=float32)\n",
      "Tensor(\"binary_crossentropy/weighted_loss/value:0\", shape=(), dtype=float32)\n",
      "1/1 [==============================] - 0s 154ms/step\n",
      "1/1 [==============================] - 1s 866ms/step\n",
      "1/1 [==============================] - 1s 833ms/step\n",
      "1/1 [==============================] - 1s 849ms/step\n",
      "1/1 [==============================] - 1s 845ms/step\n",
      "1/1 [==============================] - 1s 848ms/step\n",
      "1/1 [==============================] - 1s 825ms/step\n",
      "1/1 [==============================] - 1s 845ms/step\n",
      "1/1 [==============================] - 1s 852ms/step\n",
      "1/1 [==============================] - 1s 847ms/step\n",
      "1/1 [==============================] - 1s 860ms/step\n",
      "1/1 [==============================] - 1s 848ms/step\n",
      "1/1 [==============================] - 1s 846ms/step\n",
      "1/1 [==============================] - 1s 838ms/step\n",
      "1/1 [==============================] - 1s 832ms/step\n",
      "1/1 [==============================] - 1s 847ms/step\n",
      "1/1 [==============================] - 1s 835ms/step\n",
      "1/1 [==============================] - 1s 835ms/step\n",
      "1/1 [==============================] - 1s 799ms/step\n",
      "1/1 [==============================] - 1s 837ms/step\n",
      "1/1 [==============================] - 1s 827ms/step\n",
      "1/1 [==============================] - 1s 832ms/step\n",
      "1/1 [==============================] - 1s 1s/step\n",
      "1/1 [==============================] - 1s 841ms/step\n",
      "1/1 [==============================] - 1s 819ms/step\n",
      "25/26 [===========================>..] - ETA: 1sTensor(\"binary_crossentropy/weighted_loss/value:0\", shape=(), dtype=float32)\n",
      "1/1 [==============================] - 0s 21ms/step\n",
      "26/26 [==============================] - 39s 1s/step\n",
      "training results\n",
      "0.7067616 0.622549 0.46078432 0.68115944\n",
      "validation results\n",
      "0.4875 0.05 0.4\n",
      "\n",
      " Epoch 2/15\n",
      "1/1 [==============================] - 1s 830ms/step\n",
      "1/1 [==============================] - 1s 823ms/step\n",
      "1/1 [==============================] - 1s 825ms/step\n",
      "1/1 [==============================] - 1s 834ms/step\n",
      "1/1 [==============================] - 1s 837ms/step\n",
      "1/1 [==============================] - 1s 817ms/step\n",
      "1/1 [==============================] - 1s 828ms/step\n",
      "1/1 [==============================] - 1s 794ms/step\n",
      "1/1 [==============================] - 1s 825ms/step\n",
      "1/1 [==============================] - 1s 831ms/step\n",
      "1/1 [==============================] - 1s 795ms/step\n",
      "1/1 [==============================] - 1s 825ms/step\n",
      "1/1 [==============================] - 1s 831ms/step\n",
      "1/1 [==============================] - 1s 835ms/step\n",
      "1/1 [==============================] - 1s 827ms/step\n",
      "1/1 [==============================] - 1s 799ms/step\n",
      "1/1 [==============================] - 1s 823ms/step\n",
      "1/1 [==============================] - 1s 823ms/step\n",
      "1/1 [==============================] - 1s 827ms/step\n",
      "1/1 [==============================] - 1s 822ms/step\n",
      "1/1 [==============================] - 1s 834ms/step\n",
      "1/1 [==============================] - 1s 849ms/step\n",
      "1/1 [==============================] - 1s 779ms/step\n",
      "1/1 [==============================] - 1s 805ms/step\n",
      "1/1 [==============================] - 1s 797ms/step\n",
      "1/1 [==============================] - 0s 400ms/step\n",
      "26/26 [==============================] - 35s 1s/step\n",
      "training results\n",
      "0.6960448 0.5245098 0.20588236 0.5675676\n",
      "validation results\n",
      "0.5 0.075 0.5\n",
      "\n",
      " Epoch 3/15\n",
      "1/1 [==============================] - 1s 795ms/step\n",
      "1/1 [==============================] - 1s 828ms/step\n",
      "1/1 [==============================] - 1s 810ms/step\n",
      "1/1 [==============================] - 1s 817ms/step\n",
      "1/1 [==============================] - 1s 821ms/step\n",
      "1/1 [==============================] - 1s 771ms/step\n",
      "1/1 [==============================] - 1s 798ms/step\n",
      "1/1 [==============================] - 1s 842ms/step\n",
      "1/1 [==============================] - 1s 803ms/step\n",
      "1/1 [==============================] - 1s 788ms/step\n",
      "1/1 [==============================] - 1s 800ms/step\n",
      "1/1 [==============================] - 1s 797ms/step\n",
      "1/1 [==============================] - 1s 789ms/step\n",
      "1/1 [==============================] - 1s 804ms/step\n",
      "1/1 [==============================] - 1s 789ms/step\n",
      "1/1 [==============================] - 1s 784ms/step\n",
      "1/1 [==============================] - 1s 786ms/step\n",
      "1/1 [==============================] - 1s 807ms/step\n",
      "1/1 [==============================] - 1s 799ms/step\n",
      "1/1 [==============================] - 1s 813ms/step\n",
      "1/1 [==============================] - 1s 808ms/step\n",
      "1/1 [==============================] - 1s 777ms/step\n",
      "1/1 [==============================] - 1s 799ms/step\n",
      "1/1 [==============================] - 1s 789ms/step\n",
      "1/1 [==============================] - 1s 788ms/step\n",
      "1/1 [==============================] - 0s 387ms/step\n",
      "26/26 [==============================] - 33s 1s/step\n",
      "training results\n",
      "0.69365245 0.5882353 0.5588235 0.59375\n",
      "validation results\n",
      "0.5125 0.25 0.5263158\n",
      "\n",
      " Epoch 4/15\n",
      "1/1 [==============================] - 1s 778ms/step\n",
      "1/1 [==============================] - 1s 794ms/step\n",
      "1/1 [==============================] - 1s 788ms/step\n",
      "1/1 [==============================] - 1s 793ms/step\n",
      "1/1 [==============================] - 1s 796ms/step\n",
      "1/1 [==============================] - 1s 791ms/step\n",
      "1/1 [==============================] - 1s 777ms/step\n",
      "1/1 [==============================] - 1s 756ms/step\n",
      "1/1 [==============================] - 1s 793ms/step\n",
      "1/1 [==============================] - 1s 790ms/step\n",
      "1/1 [==============================] - 1s 802ms/step\n",
      "1/1 [==============================] - 1s 1s/step\n",
      "1/1 [==============================] - 1s 1s/step\n",
      "1/1 [==============================] - 1s 789ms/step\n",
      "1/1 [==============================] - 1s 784ms/step\n",
      "1/1 [==============================] - 1s 775ms/step\n",
      "1/1 [==============================] - 1s 793ms/step\n",
      "1/1 [==============================] - 1s 1s/step\n",
      "1/1 [==============================] - 1s 773ms/step\n",
      "1/1 [==============================] - 1s 802ms/step\n",
      "1/1 [==============================] - 1s 787ms/step\n",
      "1/1 [==============================] - 1s 793ms/step\n",
      "1/1 [==============================] - 1s 777ms/step\n",
      "1/1 [==============================] - 1s 776ms/step\n",
      "1/1 [==============================] - 1s 769ms/step\n",
      "1/1 [==============================] - 0s 397ms/step\n",
      "26/26 [==============================] - 33s 1s/step\n",
      "training results\n",
      "0.6896944 0.5882353 0.23529412 0.8\n",
      "validation results\n",
      "0.525 0.1 0.6666667\n",
      "\n",
      " Epoch 5/15\n",
      "1/1 [==============================] - 1s 770ms/step\n",
      "1/1 [==============================] - 1s 779ms/step\n",
      "1/1 [==============================] - 1s 772ms/step\n",
      "1/1 [==============================] - 1s 783ms/step\n",
      "1/1 [==============================] - 1s 786ms/step\n",
      "1/1 [==============================] - 1s 779ms/step\n",
      "1/1 [==============================] - 1s 755ms/step\n",
      "1/1 [==============================] - 1s 774ms/step\n",
      "1/1 [==============================] - 1s 808ms/step\n",
      "1/1 [==============================] - 1s 799ms/step\n",
      "1/1 [==============================] - 1s 779ms/step\n",
      "1/1 [==============================] - 1s 789ms/step\n",
      "1/1 [==============================] - 1s 805ms/step\n",
      "1/1 [==============================] - 1s 801ms/step\n",
      "1/1 [==============================] - 1s 783ms/step\n",
      "1/1 [==============================] - 1s 783ms/step\n",
      "1/1 [==============================] - 1s 1s/step\n",
      "1/1 [==============================] - 1s 786ms/step\n",
      "1/1 [==============================] - 1s 783ms/step\n",
      "1/1 [==============================] - 1s 774ms/step\n",
      "1/1 [==============================] - 1s 1s/step\n",
      "1/1 [==============================] - 1s 772ms/step\n",
      "1/1 [==============================] - 1s 769ms/step\n",
      "1/1 [==============================] - 1s 793ms/step\n",
      "1/1 [==============================] - 1s 757ms/step\n",
      "1/1 [==============================] - 0s 387ms/step\n",
      "26/26 [==============================] - 32s 1s/step\n",
      "training results\n",
      "0.6968819 0.5882353 0.5686275 0.59183675\n",
      "validation results\n",
      "0.5125 0.375 0.51724136\n",
      "\n",
      " Epoch 6/15\n",
      "1/1 [==============================] - 1s 764ms/step\n",
      "1/1 [==============================] - 1s 788ms/step\n",
      "1/1 [==============================] - 1s 769ms/step\n",
      "1/1 [==============================] - 1s 759ms/step\n",
      "1/1 [==============================] - 1s 783ms/step\n",
      "1/1 [==============================] - 1s 784ms/step\n",
      "1/1 [==============================] - 1s 763ms/step\n",
      "1/1 [==============================] - 1s 760ms/step\n",
      "1/1 [==============================] - 1s 764ms/step\n",
      "1/1 [==============================] - 1s 992ms/step\n",
      "1/1 [==============================] - 1s 766ms/step\n",
      "1/1 [==============================] - 1s 766ms/step\n",
      "1/1 [==============================] - 1s 765ms/step\n",
      "1/1 [==============================] - 1s 790ms/step\n",
      "1/1 [==============================] - 1s 764ms/step\n",
      "1/1 [==============================] - 1s 782ms/step\n",
      "1/1 [==============================] - 1s 767ms/step\n",
      "1/1 [==============================] - 1s 988ms/step\n",
      "1/1 [==============================] - 1s 787ms/step\n",
      "1/1 [==============================] - 1s 734ms/step\n",
      "1/1 [==============================] - 1s 762ms/step\n",
      "1/1 [==============================] - 1s 767ms/step\n",
      "1/1 [==============================] - 1s 757ms/step\n",
      "1/1 [==============================] - 1s 758ms/step\n",
      "1/1 [==============================] - 1s 778ms/step\n",
      "1/1 [==============================] - 0s 376ms/step\n",
      "26/26 [==============================] - 32s 1s/step\n",
      "training results\n",
      "0.69123656 0.622549 0.42156863 0.704918\n",
      "validation results\n",
      "0.525 0.75 0.51724136\n",
      "\n",
      " Epoch 7/15\n",
      "1/1 [==============================] - 1s 778ms/step\n",
      "1/1 [==============================] - 1s 779ms/step\n",
      "1/1 [==============================] - 1s 769ms/step\n",
      "1/1 [==============================] - 1s 754ms/step\n",
      "1/1 [==============================] - 1s 762ms/step\n",
      "1/1 [==============================] - 1s 755ms/step\n",
      "1/1 [==============================] - 1s 764ms/step\n",
      "1/1 [==============================] - 1s 720ms/step\n",
      "1/1 [==============================] - 1s 985ms/step\n",
      "1/1 [==============================] - 1s 778ms/step\n",
      "1/1 [==============================] - 1s 759ms/step\n",
      "1/1 [==============================] - 1s 766ms/step\n",
      "1/1 [==============================] - 1s 776ms/step\n",
      "1/1 [==============================] - 1s 776ms/step\n",
      "1/1 [==============================] - 1s 774ms/step\n",
      "1/1 [==============================] - 1s 773ms/step\n",
      "1/1 [==============================] - 1s 753ms/step\n",
      "1/1 [==============================] - 1s 756ms/step\n",
      "1/1 [==============================] - 1s 755ms/step\n",
      "1/1 [==============================] - 1s 774ms/step\n",
      "1/1 [==============================] - 1s 732ms/step\n",
      "1/1 [==============================] - 1s 748ms/step\n",
      "1/1 [==============================] - 1s 749ms/step\n",
      "1/1 [==============================] - 1s 770ms/step\n",
      "1/1 [==============================] - 1s 773ms/step\n",
      "1/1 [==============================] - 0s 366ms/step\n",
      "26/26 [==============================] - 31s 1s/step\n",
      "training results\n",
      "0.71393543 0.5686275 0.5294118 0.5744681\n",
      "validation results\n",
      "0.6 0.425 0.65384614\n",
      "\n",
      " Epoch 8/15\n",
      "1/1 [==============================] - 1s 747ms/step\n",
      "1/1 [==============================] - 1s 757ms/step\n",
      "1/1 [==============================] - 1s 751ms/step\n",
      "1/1 [==============================] - 1s 756ms/step\n",
      "1/1 [==============================] - 1s 726ms/step\n",
      "1/1 [==============================] - 1s 744ms/step\n",
      "1/1 [==============================] - 1s 756ms/step\n",
      "1/1 [==============================] - 1s 731ms/step\n",
      "1/1 [==============================] - 1s 722ms/step\n",
      "1/1 [==============================] - 1s 743ms/step\n",
      "1/1 [==============================] - 1s 770ms/step\n",
      "1/1 [==============================] - 1s 754ms/step\n",
      "1/1 [==============================] - 1s 760ms/step\n",
      "1/1 [==============================] - 1s 767ms/step\n",
      "1/1 [==============================] - 1s 751ms/step\n",
      "1/1 [==============================] - 1s 972ms/step\n",
      "1/1 [==============================] - 1s 768ms/step\n",
      "1/1 [==============================] - 1s 747ms/step\n",
      "1/1 [==============================] - 1s 974ms/step\n",
      "1/1 [==============================] - 1s 755ms/step\n",
      "1/1 [==============================] - 1s 973ms/step\n",
      "1/1 [==============================] - 1s 768ms/step\n",
      "1/1 [==============================] - 1s 745ms/step\n",
      "1/1 [==============================] - 1s 746ms/step\n",
      "1/1 [==============================] - 1s 949ms/step\n",
      "1/1 [==============================] - 0s 368ms/step\n",
      "26/26 [==============================] - 32s 1s/step\n",
      "training results\n",
      "0.69833064 0.5294118 0.39215687 0.5405405\n",
      "validation results\n",
      "0.5625 0.125 1.0\n",
      "\n",
      " Epoch 9/15\n",
      "1/1 [==============================] - 1s 745ms/step\n",
      "1/1 [==============================] - 1s 768ms/step\n",
      "1/1 [==============================] - 1s 745ms/step\n",
      "1/1 [==============================] - 1s 748ms/step\n",
      "1/1 [==============================] - 1s 769ms/step\n",
      "1/1 [==============================] - 1s 762ms/step\n",
      "1/1 [==============================] - 1s 753ms/step\n",
      "1/1 [==============================] - 1s 708ms/step\n",
      "1/1 [==============================] - 1s 752ms/step\n",
      "1/1 [==============================] - 1s 756ms/step\n",
      "1/1 [==============================] - 1s 749ms/step\n",
      "1/1 [==============================] - 1s 746ms/step\n",
      "1/1 [==============================] - 1s 743ms/step\n",
      "1/1 [==============================] - 1s 754ms/step\n",
      "1/1 [==============================] - 1s 756ms/step\n",
      "1/1 [==============================] - 1s 770ms/step\n",
      "1/1 [==============================] - 1s 761ms/step\n",
      "1/1 [==============================] - 1s 746ms/step\n",
      "1/1 [==============================] - 1s 767ms/step\n",
      "1/1 [==============================] - 1s 760ms/step\n",
      "1/1 [==============================] - 1s 755ms/step\n",
      "1/1 [==============================] - 1s 747ms/step\n",
      "1/1 [==============================] - 1s 747ms/step\n",
      "1/1 [==============================] - 1s 951ms/step\n",
      "1/1 [==============================] - 1s 768ms/step\n",
      "1/1 [==============================] - 0s 373ms/step\n",
      "26/26 [==============================] - 31s 1s/step\n",
      "training results\n",
      "0.6713556 0.63235295 0.3529412 0.8\n",
      "validation results\n",
      "0.5375 0.85 0.52307695\n",
      "\n",
      " Epoch 10/15\n",
      "1/1 [==============================] - 1s 763ms/step\n",
      "1/1 [==============================] - 1s 765ms/step\n",
      "1/1 [==============================] - 1s 765ms/step\n",
      "1/1 [==============================] - 1s 759ms/step\n",
      "1/1 [==============================] - 1s 768ms/step\n",
      "1/1 [==============================] - 1s 754ms/step\n",
      "1/1 [==============================] - 1s 775ms/step\n",
      "1/1 [==============================] - 1s 760ms/step\n",
      "1/1 [==============================] - 1s 748ms/step\n",
      "1/1 [==============================] - 1s 749ms/step\n",
      "1/1 [==============================] - 1s 768ms/step\n",
      "1/1 [==============================] - 1s 746ms/step\n",
      "1/1 [==============================] - 1s 756ms/step\n",
      "1/1 [==============================] - 1s 758ms/step\n",
      "1/1 [==============================] - 1s 746ms/step\n",
      "1/1 [==============================] - 1s 762ms/step\n",
      "1/1 [==============================] - 1s 708ms/step\n",
      "1/1 [==============================] - 1s 747ms/step\n",
      "1/1 [==============================] - 1s 763ms/step\n",
      "1/1 [==============================] - 1s 764ms/step\n",
      "1/1 [==============================] - 1s 747ms/step\n",
      "1/1 [==============================] - 1s 767ms/step\n",
      "1/1 [==============================] - 1s 772ms/step\n",
      "1/1 [==============================] - 1s 745ms/step\n",
      "1/1 [==============================] - 1s 742ms/step\n",
      "1/1 [==============================] - 0s 365ms/step\n",
      "26/26 [==============================] - 31s 1s/step\n",
      "training results\n",
      "0.689477 0.63235295 0.5980392 0.6421053\n",
      "validation results\n",
      "0.4875 0.0 0.0\n",
      "\n",
      " Epoch 11/15\n",
      "1/1 [==============================] - 1s 747ms/step\n",
      "1/1 [==============================] - 1s 750ms/step\n",
      "1/1 [==============================] - 1s 762ms/step\n",
      "1/1 [==============================] - 1s 762ms/step\n",
      "1/1 [==============================] - 1s 747ms/step\n",
      "1/1 [==============================] - 1s 748ms/step\n",
      "1/1 [==============================] - 1s 763ms/step\n",
      "1/1 [==============================] - 1s 732ms/step\n",
      "1/1 [==============================] - 1s 955ms/step\n",
      "1/1 [==============================] - 1s 747ms/step\n",
      "1/1 [==============================] - 1s 762ms/step\n",
      "1/1 [==============================] - 1s 739ms/step\n",
      "1/1 [==============================] - 1s 743ms/step\n"
     ]
    },
    {
     "name": "stdout",
     "output_type": "stream",
     "text": [
      "1/1 [==============================] - 1s 757ms/step\n",
      "1/1 [==============================] - 1s 737ms/step\n",
      "1/1 [==============================] - 1s 766ms/step\n",
      "1/1 [==============================] - 1s 737ms/step\n",
      "1/1 [==============================] - 1s 754ms/step\n",
      "1/1 [==============================] - 1s 739ms/step\n",
      "1/1 [==============================] - 1s 735ms/step\n",
      "1/1 [==============================] - 1s 754ms/step\n",
      "1/1 [==============================] - 1s 742ms/step\n",
      "1/1 [==============================] - 1s 753ms/step\n",
      "1/1 [==============================] - 1s 757ms/step\n",
      "1/1 [==============================] - 1s 739ms/step\n",
      "1/1 [==============================] - 0s 361ms/step\n",
      "26/26 [==============================] - 31s 1s/step\n",
      "training results\n",
      "0.70290303 0.50980395 0.078431375 0.5714286\n",
      "validation results\n",
      "0.5125 0.025 1.0\n",
      "\n",
      " Epoch 12/15\n",
      "1/1 [==============================] - 1s 748ms/step\n",
      "1/1 [==============================] - 1s 756ms/step\n",
      "1/1 [==============================] - 1s 953ms/step\n",
      "1/1 [==============================] - 1s 741ms/step\n",
      "1/1 [==============================] - 1s 732ms/step\n",
      "1/1 [==============================] - 1s 736ms/step\n",
      "1/1 [==============================] - 1s 759ms/step\n",
      "1/1 [==============================] - 1s 730ms/step\n",
      "1/1 [==============================] - 1s 745ms/step\n",
      "1/1 [==============================] - 1s 752ms/step\n",
      "1/1 [==============================] - 1s 762ms/step\n",
      "1/1 [==============================] - 1s 732ms/step\n",
      "1/1 [==============================] - 1s 757ms/step\n",
      "1/1 [==============================] - 1s 760ms/step\n",
      "1/1 [==============================] - 1s 763ms/step\n",
      "1/1 [==============================] - 1s 756ms/step\n",
      "1/1 [==============================] - 1s 753ms/step\n",
      "1/1 [==============================] - 1s 737ms/step\n",
      "1/1 [==============================] - 1s 738ms/step\n",
      "1/1 [==============================] - 1s 746ms/step\n",
      "1/1 [==============================] - 1s 957ms/step\n",
      "1/1 [==============================] - 1s 755ms/step\n",
      "1/1 [==============================] - 1s 736ms/step\n",
      "1/1 [==============================] - 1s 744ms/step\n",
      "1/1 [==============================] - 1s 731ms/step\n",
      "1/1 [==============================] - 0s 359ms/step\n",
      "26/26 [==============================] - 31s 1s/step\n",
      "training results\n",
      "0.6937881 0.5 0.05882353 0.5\n",
      "validation results\n",
      "0.5125 0.025 1.0\n",
      "\n",
      " Epoch 13/15\n",
      "1/1 [==============================] - 1s 756ms/step\n",
      "1/1 [==============================] - 1s 938ms/step\n",
      "1/1 [==============================] - 1s 745ms/step\n",
      "1/1 [==============================] - 1s 732ms/step\n",
      "1/1 [==============================] - 1s 748ms/step\n",
      "1/1 [==============================] - 1s 735ms/step\n",
      "1/1 [==============================] - 1s 756ms/step\n",
      "1/1 [==============================] - 1s 730ms/step\n",
      "1/1 [==============================] - 1s 740ms/step\n",
      "1/1 [==============================] - 1s 948ms/step\n",
      "1/1 [==============================] - 1s 739ms/step\n",
      "1/1 [==============================] - 1s 762ms/step\n",
      "1/1 [==============================] - 1s 744ms/step\n",
      "1/1 [==============================] - 1s 753ms/step\n",
      "1/1 [==============================] - 1s 734ms/step\n",
      "1/1 [==============================] - 1s 741ms/step\n",
      "1/1 [==============================] - 1s 748ms/step\n",
      "1/1 [==============================] - 1s 732ms/step\n",
      "1/1 [==============================] - 1s 952ms/step\n",
      "1/1 [==============================] - 1s 733ms/step\n",
      "1/1 [==============================] - 1s 757ms/step\n",
      "1/1 [==============================] - 1s 743ms/step\n",
      "1/1 [==============================] - 1s 753ms/step\n",
      "1/1 [==============================] - 1s 745ms/step\n",
      "1/1 [==============================] - 1s 733ms/step\n",
      "1/1 [==============================] - 0s 358ms/step\n",
      "26/26 [==============================] - 31s 1s/step\n",
      "training results\n",
      "0.68972707 0.50490195 0.009803922 1.0\n",
      "validation results\n",
      "0.5 0.0 0.0\n",
      "\n",
      " Epoch 14/15\n",
      "1/1 [==============================] - 1s 722ms/step\n",
      "1/1 [==============================] - 1s 738ms/step\n",
      "1/1 [==============================] - 1s 731ms/step\n",
      "1/1 [==============================] - 1s 717ms/step\n",
      "1/1 [==============================] - 1s 957ms/step\n",
      "1/1 [==============================] - 1s 738ms/step\n",
      "1/1 [==============================] - 1s 765ms/step\n",
      "1/1 [==============================] - 1s 727ms/step\n",
      "1/1 [==============================] - 1s 736ms/step\n",
      "1/1 [==============================] - 1s 746ms/step\n",
      "1/1 [==============================] - 1s 732ms/step\n",
      "1/1 [==============================] - 1s 737ms/step\n",
      "1/1 [==============================] - 1s 759ms/step\n",
      "1/1 [==============================] - 1s 742ms/step\n",
      "1/1 [==============================] - 1s 749ms/step\n",
      "1/1 [==============================] - 1s 761ms/step\n",
      "1/1 [==============================] - 1s 728ms/step\n",
      "1/1 [==============================] - 1s 743ms/step\n",
      "1/1 [==============================] - 1s 761ms/step\n",
      "1/1 [==============================] - 1s 746ms/step\n",
      "1/1 [==============================] - 1s 750ms/step\n",
      "1/1 [==============================] - 1s 740ms/step\n",
      "1/1 [==============================] - 1s 761ms/step\n",
      "1/1 [==============================] - 1s 735ms/step\n",
      "1/1 [==============================] - 1s 743ms/step\n",
      "1/1 [==============================] - 0s 359ms/step\n",
      "26/26 [==============================] - 31s 1s/step\n",
      "training results\n",
      "0.69120944 0.5 0.0 0.0\n",
      "validation results\n",
      "0.5 0.0 0.0\n",
      "\n",
      " Epoch 15/15\n",
      "1/1 [==============================] - 1s 743ms/step\n",
      "1/1 [==============================] - 1s 755ms/step\n",
      "1/1 [==============================] - 1s 741ms/step\n",
      "1/1 [==============================] - 1s 749ms/step\n",
      "1/1 [==============================] - 1s 739ms/step\n",
      "1/1 [==============================] - 1s 757ms/step\n",
      "1/1 [==============================] - 1s 763ms/step\n",
      "1/1 [==============================] - 1s 750ms/step\n",
      "1/1 [==============================] - 1s 763ms/step\n",
      "1/1 [==============================] - 1s 752ms/step\n",
      "1/1 [==============================] - 1s 765ms/step\n",
      "1/1 [==============================] - 1s 744ms/step\n",
      "1/1 [==============================] - 1s 744ms/step\n",
      "1/1 [==============================] - 1s 763ms/step\n",
      "1/1 [==============================] - 1s 757ms/step\n",
      "1/1 [==============================] - 1s 734ms/step\n",
      "1/1 [==============================] - 1s 734ms/step\n",
      "1/1 [==============================] - 1s 962ms/step\n",
      "1/1 [==============================] - 1s 736ms/step\n",
      "1/1 [==============================] - 1s 741ms/step\n",
      "1/1 [==============================] - 1s 762ms/step\n",
      "1/1 [==============================] - 1s 738ms/step\n",
      "1/1 [==============================] - 1s 759ms/step\n",
      "1/1 [==============================] - 1s 756ms/step\n",
      "1/1 [==============================] - 1s 738ms/step\n",
      "1/1 [==============================] - 0s 359ms/step\n",
      "26/26 [==============================] - 32s 1s/step\n",
      "training results\n",
      "0.68792695 0.50980395 0.039215688 0.6666667\n",
      "validation results\n",
      "0.5125 0.05 0.6666667\n"
     ]
    }
   ],
   "source": [
    "outputloss,outputaccuracy,outputprecision, outputrecall,output_val_accuracy,output_val_precision,output_val_recall =train(train_data,validation_data, EPOCHS)"
   ]
  },
  {
   "cell_type": "markdown",
   "id": "0ce4a40f",
   "metadata": {},
   "source": [
    "# Saving model"
   ]
  },
  {
   "cell_type": "code",
   "execution_count": null,
   "id": "9b4ac027",
   "metadata": {},
   "outputs": [],
   "source": [
    "siameseModel.save('siamesemodelcompiledLT2V3metrics.h5')"
   ]
  },
  {
   "cell_type": "code",
   "execution_count": null,
   "id": "1e20fb77",
   "metadata": {},
   "outputs": [],
   "source": [
    "siameseModel.compile(optimizer=tf.keras.optimizers.Adam(1e-4), loss=tf.keras.losses.BinaryCrossentropy(), metrics=[tf.keras.metrics.Precision(),tf.keras.metrics.Recall(),tf.keras.metrics.Accuracy()])\n"
   ]
  },
  {
   "cell_type": "markdown",
   "id": "caa6a79f",
   "metadata": {},
   "source": [
    "# Ploting metrics"
   ]
  },
  {
   "cell_type": "code",
   "execution_count": 36,
   "id": "bd3a3c08",
   "metadata": {},
   "outputs": [
    {
     "data": {
      "image/png": "[encoded data removed]",
      "text/plain": [
       "<Figure size 1200x800 with 4 Axes>"
      ]
     },
     "metadata": {},
     "output_type": "display_data"
    }
   ],
   "source": [
    "fig, axes = plt.subplots(4, sharex=True, figsize=(12, 8))\n",
    "fig.suptitle('Training Metrics SiameseModelV7')\n",
    "\n",
    "axes[0].set_ylabel(\"Loss\", fontsize=14)\n",
    "axes[0].plot(outputloss)\n",
    "\n",
    "axes[1].set_ylabel(\"Accuracy\", fontsize=14)\n",
    "axes[1].plot(outputaccuracy)\n",
    "\n",
    "axes[2].set_ylabel(\"Precision\", fontsize=14)\n",
    "axes[2].plot(outputprecision)\n",
    "\n",
    "axes[3].set_ylabel(\"Recall\", fontsize=14)\n",
    "axes[3].set_xlabel(\"Epoch\", fontsize=14)\n",
    "axes[3].plot(outputrecall)\n",
    "plt.show()"
   ]
  },
  {
   "cell_type": "code",
   "execution_count": 50,
   "id": "0167c133",
   "metadata": {
    "scrolled": false
   },
   "outputs": [
    {
     "data": {
      "image/png": "[encoded data removed]",
      "text/plain": [
       "<Figure size 1200x800 with 3 Axes>"
      ]
     },
     "metadata": {},
     "output_type": "display_data"
    }
   ],
   "source": [
    "fig, axes = plt.subplots(3, sharex=True, figsize=(12, 8))\n",
    "fig.suptitle('Validation Metrics SiameseModelV7')\n",
    "\n",
    "axes[0].set_ylabel(\"Acuracy\", fontsize=14)\n",
    "axes[0].plot(output_val_accuracy)\n",
    "\n",
    "axes[1].set_ylabel(\"Precision\", fontsize=14)\n",
    "axes[1].plot(output_val_precision)\n",
    "\n",
    "axes[2].set_ylabel(\"Recall\", fontsize=14)\n",
    "axes[2].set_xlabel(\"Epoch\", fontsize=14)\n",
    "axes[2].plot(output_val_recall)\n",
    "plt.show()"
   ]
  },
  {
   "cell_type": "code",
   "execution_count": 57,
   "id": "40de66f4",
   "metadata": {
    "scrolled": true
   },
   "outputs": [
    {
     "name": "stdout",
     "output_type": "stream",
     "text": [
      "[<tf.Tensor: shape=(), dtype=float32, numpy=0.05>, <tf.Tensor: shape=(), dtype=float32, numpy=0.075>, <tf.Tensor: shape=(), dtype=float32, numpy=0.25>, <tf.Tensor: shape=(), dtype=float32, numpy=0.1>, <tf.Tensor: shape=(), dtype=float32, numpy=0.375>, <tf.Tensor: shape=(), dtype=float32, numpy=0.75>, <tf.Tensor: shape=(), dtype=float32, numpy=0.425>, <tf.Tensor: shape=(), dtype=float32, numpy=0.125>, <tf.Tensor: shape=(), dtype=float32, numpy=0.85>, <tf.Tensor: shape=(), dtype=float32, numpy=0.0>, <tf.Tensor: shape=(), dtype=float32, numpy=0.025>, <tf.Tensor: shape=(), dtype=float32, numpy=0.025>, <tf.Tensor: shape=(), dtype=float32, numpy=0.0>, <tf.Tensor: shape=(), dtype=float32, numpy=0.0>, <tf.Tensor: shape=(), dtype=float32, numpy=0.05>]\n"
     ]
    }
   ],
   "source": [
    "print(output_val_recall)"
   ]
  },
  {
   "cell_type": "code",
   "execution_count": 58,
   "id": "d917e533",
   "metadata": {},
   "outputs": [],
   "source": [
    "values = [tensor.numpy() for tensor in output_val_recall]"
   ]
  },
  {
   "cell_type": "code",
   "execution_count": 59,
   "id": "f13f88b5",
   "metadata": {},
   "outputs": [
    {
     "name": "stdout",
     "output_type": "stream",
     "text": [
      "[0.05, 0.075, 0.25, 0.1, 0.375, 0.75, 0.425, 0.125, 0.85, 0.0, 0.025, 0.025, 0.0, 0.0, 0.05]\n"
     ]
    }
   ],
   "source": [
    "print(values)"
   ]
  },
  {
   "cell_type": "markdown",
   "id": "0f81359c",
   "metadata": {},
   "source": [
    "# Testing model"
   ]
  },
  {
   "cell_type": "code",
   "execution_count": 70,
   "id": "4a7d2d95",
   "metadata": {},
   "outputs": [],
   "source": [
    "test_input, test_val, y_true = ttdata.as_numpy_iterator().next()"
   ]
  },
  {
   "cell_type": "code",
   "execution_count": 71,
   "id": "2b784a95",
   "metadata": {},
   "outputs": [
    {
     "name": "stdout",
     "output_type": "stream",
     "text": [
      "1/1 [==============================] - 3s 3s/step\n",
      "[[0.]\n",
      " [0.]\n",
      " [0.]\n",
      " [0.]\n",
      " [0.]\n",
      " [0.]\n",
      " [0.]\n",
      " [0.]\n",
      " [0.]\n",
      " [0.]\n",
      " [0.]\n",
      " [0.]\n",
      " [0.]\n",
      " [0.]\n",
      " [0.]\n",
      " [0.]] [1 0 0 0 0 0 0 0 1 0 0 1 0 0 1 1]\n",
      "1/1 [==============================] - 0s 25ms/step\n",
      "[[0.]\n",
      " [0.]\n",
      " [0.]\n",
      " [0.]\n",
      " [0.]\n",
      " [0.]\n",
      " [0.]\n",
      " [0.]\n",
      " [0.]\n",
      " [0.]\n",
      " [0.]\n",
      " [1.]\n",
      " [0.]\n",
      " [0.]\n",
      " [0.]\n",
      " [0.]] [1 0 1 0 0 0 0 1 1 0 0 1 0 0 1 0]\n",
      "1/1 [==============================] - 0s 24ms/step\n",
      "[[0.]\n",
      " [0.]\n",
      " [0.]\n",
      " [0.]\n",
      " [0.]\n",
      " [0.]\n",
      " [0.]\n",
      " [0.]\n",
      " [0.]\n",
      " [0.]\n",
      " [0.]\n",
      " [0.]\n",
      " [0.]\n",
      " [0.]\n",
      " [0.]\n",
      " [0.]] [1 1 1 1 0 1 0 1 1 1 1 1 1 0 0 0]\n",
      "1/1 [==============================] - 0s 24ms/step\n",
      "[[0.]\n",
      " [0.]\n",
      " [0.]\n",
      " [0.]\n",
      " [1.]\n",
      " [0.]\n",
      " [0.]\n",
      " [0.]\n",
      " [0.]\n",
      " [0.]\n",
      " [0.]\n",
      " [0.]\n",
      " [0.]\n",
      " [0.]\n",
      " [0.]\n",
      " [0.]] [0 1 1 0 1 0 1 0 1 0 1 1 1 0 1 0]\n",
      "1/1 [==============================] - 0s 27ms/step\n",
      "[[0.]\n",
      " [0.]\n",
      " [0.]\n",
      " [0.]\n",
      " [0.]\n",
      " [1.]\n",
      " [0.]\n",
      " [0.]\n",
      " [0.]\n",
      " [0.]\n",
      " [0.]\n",
      " [0.]\n",
      " [0.]\n",
      " [0.]\n",
      " [0.]\n",
      " [0.]] [1 1 1 0 1 1 1 1 0 0 0 1 0 0 1 0]\n",
      "0.5375 1.0 0.075\n"
     ]
    }
   ],
   "source": [
    "r = Recall()\n",
    "p = Precision()\n",
    "a = Accuracy()\n",
    "#f1 = F1Score(threshold=0.55)\n",
    "\n",
    "\n",
    "for test_input, test_val, y_true in ttdata.as_numpy_iterator():\n",
    "    yhat = siameseModel.predict([test_input, test_val])\n",
    "    for i in range(len(yhat)):\n",
    "        if(yhat[i]>0.5):\n",
    "            yhat[i] = 1\n",
    "        else:\n",
    "            yhat[i] = 0\n",
    "    print(yhat, y_true)\n",
    "    r.update_state(y_true,yhat)\n",
    "    p.update_state(y_true,yhat) \n",
    "    a.update_state(y_true,yhat)\n",
    "    #f1.update_state(y_true,yhat)\n",
    "    \n",
    "print(a.result().numpy(), p.result().numpy(), r.result().numpy())"
   ]
  }
 ],
 "metadata": {
  "kernelspec": {
   "display_name": "Python 3 (ipykernel)",
   "language": "python",
   "name": "python3"
  },
  "language_info": {
   "codemirror_mode": {
    "name": "ipython",
    "version": 3
   },
   "file_extension": ".py",
   "mimetype": "text/x-python",
   "name": "python",
   "nbconvert_exporter": "python",
   "pygments_lexer": "ipython3",
   "version": "3.9.1"
  }
 },
 "nbformat": 4,
 "nbformat_minor": 5
}
